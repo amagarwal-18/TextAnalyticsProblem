{
 "cells": [
  {
   "cell_type": "code",
   "execution_count": 102,
   "metadata": {},
   "outputs": [],
   "source": [
    "import os\n",
    "import warnings\n",
    "warnings.filterwarnings(\"ignore\")\n"
   ]
  },
  {
   "cell_type": "code",
   "execution_count": 103,
   "metadata": {},
   "outputs": [
    {
     "data": {
      "text/plain": [
       "'/Users/Arunabh/Downloads/data'"
      ]
     },
     "execution_count": 103,
     "metadata": {},
     "output_type": "execute_result"
    }
   ],
   "source": [
    "os.getcwd()"
   ]
  },
  {
   "cell_type": "code",
   "execution_count": 104,
   "metadata": {},
   "outputs": [
    {
     "name": "stdout",
     "output_type": "stream",
     "text": [
      "AMZN.csv               NOAA_TAVG.csv          \u001b[31mmultiTimeline.csv\u001b[m\u001b[m*\r\n",
      "AirPassengers.csv      Sprint_Intraday.txt    \u001b[31msample_data.xlsx\u001b[m\u001b[m*\r\n",
      "\u001b[31mBook2.xlsx\u001b[m\u001b[m*            TS-1.ipynb             \u001b[31msample_submission.csv\u001b[m\u001b[m*\r\n",
      "CME_HO1.csv            UFO.csv                \u001b[31mtest.csv\u001b[m\u001b[m*\r\n",
      "CME_NG1.csv            Untitled.ipynb         \u001b[31mtrain.csv\u001b[m\u001b[m*\r\n",
      "DJI.csv                Untitled1.ipynb        ts2.ipynb\r\n",
      "HRB.csv                Untitled2.ipynb\r\n",
      "MSFT.csv               Untitled3.ipynb\r\n"
     ]
    }
   ],
   "source": [
    "ls"
   ]
  },
  {
   "cell_type": "code",
   "execution_count": 117,
   "metadata": {},
   "outputs": [],
   "source": [
    "import pandas as pd"
   ]
  },
  {
   "cell_type": "code",
   "execution_count": 118,
   "metadata": {},
   "outputs": [],
   "source": [
    "df3 = pd.read_excel(\"Book2.xlsx\")"
   ]
  },
  {
   "cell_type": "code",
   "execution_count": null,
   "metadata": {},
   "outputs": [],
   "source": []
  },
  {
   "cell_type": "code",
   "execution_count": 120,
   "metadata": {},
   "outputs": [],
   "source": [
    "def clean(df):\n",
    "    df = df.dropna()\n",
    "    df[\"hour_time\"] = df[\"datetime\"].dt.hour\n",
    "    df['time_slice'] = pd.cut(df[\"hour_time\"], bins=[0, 6, 12, 18, 23], \n",
    "                              labels=['night','morning','afternoon','evening'])\n",
    "    df = df.drop([\"datetime\", \"hour_time\"],1)\n",
    "    df['browserid']= df['browserid'].str.lower()\n",
    "    df['browserid'] = df['browserid'].str.replace(' ', '')\n",
    "    df['browserid'].replace('mozillafirefox', 'mozilla', inplace=True)\n",
    "    df['browserid'].replace('firefox', 'mozilla', inplace=True)\n",
    "    df['browserid'].replace('internet explorer', 'ie', inplace=True)\n",
    "    df['browserid'].replace('internetexplorer', 'ie', inplace=True)\n",
    "    df['browserid'].replace('ie', 'edge', inplace=True)\n",
    "    df['browserid'].replace('googlechrome', 'chrome', inplace=True)\n",
    "    return (df)"
   ]
  },
  {
   "cell_type": "code",
   "execution_count": 123,
   "metadata": {},
   "outputs": [],
   "source": [
    "ok = clean(df3)"
   ]
  },
  {
   "cell_type": "code",
   "execution_count": 124,
   "metadata": {},
   "outputs": [
    {
     "data": {
      "text/plain": [
       "mozilla    133\n",
       "edge       112\n",
       "chrome      23\n",
       "opera        3\n",
       "safari       2\n",
       "Name: browserid, dtype: int64"
      ]
     },
     "execution_count": 124,
     "metadata": {},
     "output_type": "execute_result"
    }
   ],
   "source": [
    "ok[\"browserid\"].value_counts()"
   ]
  },
  {
   "cell_type": "code",
   "execution_count": null,
   "metadata": {},
   "outputs": [],
   "source": [
    "\n"
   ]
  },
  {
   "cell_type": "code",
   "execution_count": null,
   "metadata": {},
   "outputs": [],
   "source": []
  },
  {
   "cell_type": "code",
   "execution_count": null,
   "metadata": {},
   "outputs": [],
   "source": []
  },
  {
   "cell_type": "code",
   "execution_count": null,
   "metadata": {},
   "outputs": [],
   "source": []
  },
  {
   "cell_type": "code",
   "execution_count": null,
   "metadata": {},
   "outputs": [],
   "source": []
  },
  {
   "cell_type": "code",
   "execution_count": null,
   "metadata": {},
   "outputs": [],
   "source": []
  },
  {
   "cell_type": "code",
   "execution_count": null,
   "metadata": {},
   "outputs": [],
   "source": []
  },
  {
   "cell_type": "code",
   "execution_count": null,
   "metadata": {},
   "outputs": [],
   "source": []
  },
  {
   "cell_type": "code",
   "execution_count": null,
   "metadata": {},
   "outputs": [],
   "source": []
  },
  {
   "cell_type": "code",
   "execution_count": null,
   "metadata": {},
   "outputs": [],
   "source": []
  },
  {
   "cell_type": "code",
   "execution_count": null,
   "metadata": {},
   "outputs": [],
   "source": []
  },
  {
   "cell_type": "code",
   "execution_count": null,
   "metadata": {},
   "outputs": [],
   "source": []
  },
  {
   "cell_type": "code",
   "execution_count": null,
   "metadata": {},
   "outputs": [],
   "source": []
  },
  {
   "cell_type": "code",
   "execution_count": null,
   "metadata": {},
   "outputs": [],
   "source": []
  },
  {
   "cell_type": "code",
   "execution_count": null,
   "metadata": {},
   "outputs": [],
   "source": []
  },
  {
   "cell_type": "code",
   "execution_count": null,
   "metadata": {},
   "outputs": [],
   "source": []
  },
  {
   "cell_type": "code",
   "execution_count": null,
   "metadata": {},
   "outputs": [],
   "source": []
  },
  {
   "cell_type": "code",
   "execution_count": null,
   "metadata": {},
   "outputs": [],
   "source": []
  }
 ],
 "metadata": {
  "kernelspec": {
   "display_name": "Python 3",
   "language": "python",
   "name": "python3"
  },
  "language_info": {
   "codemirror_mode": {
    "name": "ipython",
    "version": 3
   },
   "file_extension": ".py",
   "mimetype": "text/x-python",
   "name": "python",
   "nbconvert_exporter": "python",
   "pygments_lexer": "ipython3",
   "version": "3.7.0"
  }
 },
 "nbformat": 4,
 "nbformat_minor": 2
}
